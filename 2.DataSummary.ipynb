{
 "cells": [
  {
   "cell_type": "code",
   "execution_count": 1,
   "id": "822fcfba-cb42-464a-8c47-6fe9a07ac89b",
   "metadata": {},
   "outputs": [],
   "source": [
    "import numpy as np\n",
    "from fontTools.t1Lib import std_subrs\n",
    "\n",
    "s = np.random.normal(0,1,100)"
   ]
  },
  {
   "cell_type": "code",
   "execution_count": 2,
   "id": "c922fc11-1c48-4962-958f-b7646bff83e0",
   "metadata": {},
   "outputs": [],
   "source": [
    "import matplotlib.pyplot as plt"
   ]
  },
  {
   "cell_type": "markdown",
   "id": "4ec7439a-cb14-48f6-8e5f-4dd15702dee4",
   "metadata": {
    "tags": []
   },
   "source": [
    "## Mean and standard deviation\n",
    "\n",
    "Write two functions: One to compute the mean and one to compute the standard deviation.\n",
    "Compare the results to the numpy functions (np.mean and np.std).\n",
    "Does NumPy uses Bessel's correction?"
   ]
  },
  {
   "cell_type": "code",
   "id": "b0e47d81-92d7-4a45-b9c9-71b1eb2fcf81",
   "metadata": {
    "ExecuteTime": {
     "end_time": "2025-10-03T07:43:11.503605Z",
     "start_time": "2025-10-03T07:43:11.472398Z"
    }
   },
   "source": [
    "import numpy as np\n",
    "import math\n",
    "\n",
    "s = np.random.normal(0,1,100)\n",
    "mean_value = np.mean(s)\n",
    "mean_formula = sum(s)/len(s)\n",
    "print(mean_formula)\n",
    "print(mean_value)\n",
    "\n",
    "std_value = np.std(s)\n",
    "std_formula = math.sqrt(sum((s-mean_value)**2)/len(s))\n",
    "print(std_formula)\n",
    "print(np.std(s))\n",
    "\n",
    "\n"
   ],
   "outputs": [
    {
     "name": "stdout",
     "output_type": "stream",
     "text": [
      "-0.042119045692375116\n",
      "-0.04211904569237517\n",
      "1.0803725635582415\n",
      "1.0803725635582413\n"
     ]
    }
   ],
   "execution_count": 16
  },
  {
   "metadata": {},
   "cell_type": "code",
   "outputs": [],
   "execution_count": null,
   "source": "",
   "id": "7a417f3ca5cfc7d3"
  }
 ],
 "metadata": {
  "kernelspec": {
   "display_name": "Python 3 (ipykernel)",
   "language": "python",
   "name": "python3"
  },
  "language_info": {
   "codemirror_mode": {
    "name": "ipython",
    "version": 3
   },
   "file_extension": ".py",
   "mimetype": "text/x-python",
   "name": "python",
   "nbconvert_exporter": "python",
   "pygments_lexer": "ipython3",
   "version": "3.10.7"
  }
 },
 "nbformat": 4,
 "nbformat_minor": 5
}
